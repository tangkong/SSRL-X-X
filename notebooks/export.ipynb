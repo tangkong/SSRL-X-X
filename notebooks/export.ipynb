{
 "metadata": {
  "language_info": {
   "codemirror_mode": {
    "name": "ipython",
    "version": 3
   },
   "file_extension": ".py",
   "mimetype": "text/x-python",
   "name": "python",
   "nbconvert_exporter": "python",
   "pygments_lexer": "ipython3",
   "version": "3.8.5-final"
  },
  "orig_nbformat": 2,
  "kernelspec": {
   "name": "Python 3.8.5 64-bit ('collect2': conda)",
   "display_name": "Python 3.8.5 64-bit ('collect2': conda)",
   "metadata": {
    "interpreter": {
     "hash": "6e518a406d1d6c71cc7cc8d56dc2f759b723bfc64fb93e9c416e1d65a8019dfa"
    }
   }
  }
 },
 "nbformat": 4,
 "nbformat_minor": 2,
 "cells": [
  {
   "source": [
    "# Notebook for exporting data collected at SSRL 1-5"
   ],
   "cell_type": "markdown",
   "metadata": {}
  },
  {
   "cell_type": "code",
   "execution_count": 1,
   "metadata": {},
   "outputs": [],
   "source": [
    "# imports, setup\n",
    "from databroker import Broker\n",
    "#db = Broker.named('mongoCat')\n",
    "import os\n",
    "import suitcase.csv\n",
    "import suitcase.tiff_series\n",
    "import suitcase.json_metadata\n",
    "\n",
    "from itertools import tee\n",
    "\n",
    "def std_exporter(docs, directory, fn, overwrite=False):\n",
    "    '''\n",
    "    Batch exporter for data.  \n",
    "\n",
    "    docs: documents from a Bluesky Run.  \n",
    "\n",
    "    directory: Parent directory where exported files will be written to.\n",
    "                Files will be further separated into subdirectories\n",
    "    '''\n",
    "\n",
    "    docs1, docs2, docs3 = tee(docs, 3)\n",
    "    suitcase.csv.export(docs1, directory, f'scan/{fn}-')\n",
    "    suitcase.tiff_series.export(docs2, directory, f'tiff/{fn}-')\n",
    "    suitcase.json_metadata.export(docs3, directory, f'meta/{fn}-')\n"
   ]
  },
  {
   "cell_type": "code",
   "execution_count": 2,
   "metadata": {},
   "outputs": [],
   "source": [
    "# User Settings\n",
    "## Final save path will be: '<export_path>/{scan,tiff,meta}/filename_203-primary.{csv,tiff,json}'\n",
    "\n",
    "filename = 'testName_{start[scan_id]}' # can customize with information from start document\n",
    "user_name = 'b_mehta'\n",
    "export_path = './testexport/' #'/bluedata/batch_export/'\n",
    "\n"
   ]
  },
  {
   "cell_type": "code",
   "execution_count": 3,
   "metadata": {},
   "outputs": [
    {
     "output_type": "execute_result",
     "data": {
      "text/plain": [
       "('86f1b0e6-aad4-4136-8471-10f039d34590',)"
      ]
     },
     "metadata": {},
     "execution_count": 3
    }
   ],
   "source": [
    "# dummy data\n",
    "db = Broker.named('temp')\n",
    "from bluesky import RunEngine\n",
    "RE = RunEngine()\n",
    "RE.subscribe(db.insert)\n",
    "from bluesky.plans import scan, count\n",
    "from ophyd.sim import det, motor\n",
    "\n",
    "\n",
    "RE(scan([det], motor, -1, 1, num=5))\n",
    "RE(count([det]))\n",
    "RE(count([det]), sample='dummy')\n",
    "RE(scan([det], motor, -1, 1, num=5), purpose='real data')\n"
   ]
  },
  {
   "cell_type": "code",
   "execution_count": 5,
   "metadata": {},
   "outputs": [
    {
     "output_type": "execute_result",
     "data": {
      "text/plain": [
       "<generator object Header.documents at 0x000002323E1A52E0>"
      ]
     },
     "metadata": {},
     "execution_count": 5
    }
   ],
   "source": [
    "# check connections\n",
    "## see if we can see data\n",
    "db[-1].documents(fill=True)\n",
    "\n"
   ]
  },
  {
   "cell_type": "code",
   "execution_count": 10,
   "metadata": {},
   "outputs": [],
   "source": [
    "# check header information, verify runs are desired\n",
    "hdr = db[-1]\n",
    "#hdr.start"
   ]
  },
  {
   "source": [
    "# Select data by scan id"
   ],
   "cell_type": "markdown",
   "metadata": {}
  },
  {
   "cell_type": "code",
   "execution_count": null,
   "metadata": {},
   "outputs": [],
   "source": [
    "# select via scan ID\n",
    "START = 1 #  scan id\n",
    "STOP = 3\n",
    "\n",
    "# Export Loop\n",
    "for scan_id in range(START, STOP + 1):\n",
    "    h = db[scan_id]\n",
    "    fn = f'{filename + str(scan_id)}'\n",
    "\n",
    "    try:\n",
    "        std_exporter(h.documents(fill=True), export_path, fn)\n",
    "        print('expoted scan #{scan_id}')\n",
    "    except Exception as e:\n",
    "        print(f'export failed')\n",
    "        print(e)"
   ]
  },
  {
   "source": [
    "# Select data by query"
   ],
   "cell_type": "markdown",
   "metadata": {}
  },
  {
   "cell_type": "code",
   "execution_count": null,
   "metadata": {},
   "outputs": [],
   "source": [
    "# preview start document\n",
    "db[-1].start"
   ]
  },
  {
   "cell_type": "code",
   "execution_count": 11,
   "metadata": {},
   "outputs": [],
   "source": [
    "# query data based on fields in the start document\n",
    "results = db(plan_name='scan')"
   ]
  },
  {
   "cell_type": "code",
   "execution_count": 17,
   "metadata": {
    "tags": []
   },
   "outputs": [
    {
     "output_type": "stream",
     "name": "stdout",
     "text": "4\n1\n"
    }
   ],
   "source": [
    "# Export Loop\n",
    "for h in results:\n",
    "    \n",
    "    fn = f'{filename}'\n",
    "    try:\n",
    "        std_exporter(h.documents(fill=True), export_path, fn)\n",
    "        print('expoted scan #{scan_id}')\n",
    "    except Exception as e:\n",
    "        print(f'export failed')\n",
    "        print(e)\n",
    "\n"
   ]
  },
  {
   "cell_type": "code",
   "execution_count": null,
   "metadata": {},
   "outputs": [],
   "source": []
  }
 ]
}